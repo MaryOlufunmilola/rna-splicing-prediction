# Import necessary libraries
import pandas as pd
import matplotlib.pyplot as plt
import seaborn as sns

# Load the RNA-Seq and labels data
data = pd.read_csv('data/processed_rna_seq_data.csv', index_col=0)
labels = pd.read_csv('data/processed_splicing_labels.csv', index_col=0)

# Display the first few rows of the data
print("RNA-Seq Data:")
display(data.head())

print("Splicing Event Labels:")
display(labels.head())

# Visualize distribution of splicing event labels
sns.countplot(x=labels.columns[0])  # Assuming the target column name is the first column
plt.title("Distribution of Splicing Event Labels")
plt.show()

# Train a model (using scripts/model.py for training)
# Example: Using Random Forest for splicing event prediction
